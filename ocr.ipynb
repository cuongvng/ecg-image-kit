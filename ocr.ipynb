{
 "cells": [
  {
   "cell_type": "code",
   "execution_count": 21,
   "metadata": {},
   "outputs": [],
   "source": [
    "import pytesseract\n",
    "from pdf2image import convert_from_path\n",
    "from PIL import Image\n",
    "import shutil\n",
    "import os\n",
    "\n",
    "def get_filename(pdf_path):\n",
    "    # Convert PDF to images\n",
    "    image = convert_from_path(pdf_path)[0]\n",
    "    \n",
    "    # image = Image.open('out/00001_lr-0.png')\n",
    "    \n",
    "    # Extract text from each image    \n",
    "    # Perform OCR line by line\n",
    "    lines = pytesseract.image_to_string(image).split('\\n')\n",
    "    \n",
    "    for line in lines:\n",
    "        if line.strip():  # First non-empty lines\n",
    "            line = line.replace(':', '')\n",
    "            first_line = line.split(' ')\n",
    "            # print(first_line)\n",
    "            file_name = first_line[1]\n",
    "            \n",
    "            try:\n",
    "                val = int(file_name)\n",
    "            except ValueError: # error extracting\n",
    "                file_name = line\n",
    "            # print(file_name)\n",
    "            return file_name + '_lr'\n",
    "# Usage\n",
    "pdf_path = 'out/00001_lr-0.pdf'\n",
    "filename = get_filename(pdf_path)"
   ]
  },
  {
   "cell_type": "code",
   "execution_count": 22,
   "metadata": {},
   "outputs": [
    {
     "data": {
      "text/plain": [
       "'results/00001_lr.pdf'"
      ]
     },
     "execution_count": 22,
     "metadata": {},
     "output_type": "execute_result"
    }
   ],
   "source": [
    "shutil.copy2(pdf_path, os.path.join(f'results/{filename}.pdf'))"
   ]
  },
  {
   "cell_type": "code",
   "execution_count": null,
   "metadata": {},
   "outputs": [],
   "source": []
  }
 ],
 "metadata": {
  "kernelspec": {
   "display_name": "ecg",
   "language": "python",
   "name": "ecg"
  },
  "language_info": {
   "codemirror_mode": {
    "name": "ipython",
    "version": 3
   },
   "file_extension": ".py",
   "mimetype": "text/x-python",
   "name": "python",
   "nbconvert_exporter": "python",
   "pygments_lexer": "ipython3",
   "version": "3.9.0"
  }
 },
 "nbformat": 4,
 "nbformat_minor": 2
}
